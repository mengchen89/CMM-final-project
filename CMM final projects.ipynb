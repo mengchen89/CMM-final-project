{
 "cells": [
  {
   "cell_type": "code",
   "execution_count": 1,
   "id": "393192cd",
   "metadata": {},
   "outputs": [],
   "source": [
    "import numpy as np\n",
    "import pandas as pd\n",
    "import matplotlib.pyplot as plt\n",
    "from scipy.stats.stats import pearsonr\n",
    "import math\n",
    "import missingno as miss\n",
    "import seaborn\n",
    "import scipy.stats as sp\n",
    "from sklearn.metrics import accuracy_score, confusion_matrix,roc_curve, roc_auc_score, precision_score, recall_score, precision_recall_curve\n",
    "import heapq\n",
    "from sklearn.neighbors import KNeighborsClassifier\n",
    "import scipy.stats"
   ]
  },
  {
   "cell_type": "code",
   "execution_count": 2,
   "id": "027e7dc0",
   "metadata": {},
   "outputs": [
    {
     "name": "stderr",
     "output_type": "stream",
     "text": [
      "C:\\Users\\chenm\\anaconda3\\lib\\site-packages\\IPython\\core\\interactiveshell.py:3444: DtypeWarning: Columns (1,2,3,4,5,6,7,8,9,10,11,12,13,14,15,16,17,18,19,20,21,22,23,24,25,26,27,28,29,30,31,32,33,34,35,36,37,38,39,40,41,42,43,44,45,46,47,48,49,50,51,52,53,54,55,56,57,58,59,60,61,62,63,64,65,66,67,68,69,70,71,72,73,74,75,76,77,78,79,80,81,82,83,84,85,86,87,88,89,90,91,92,93,94,95,96,97,98,99,100,101,102,103,104,105,106,107,108,109,110,111,112,113,114,115,116,117,118,119,120,121,122,123,124,125,126,127,128,129,130,131,132,133,134,135,136,137,138,139) have mixed types.Specify dtype option on import or set low_memory=False.\n",
      "  exec(code_obj, self.user_global_ns, self.user_ns)\n"
     ]
    },
    {
     "data": {
      "text/html": [
       "<div>\n",
       "<style scoped>\n",
       "    .dataframe tbody tr th:only-of-type {\n",
       "        vertical-align: middle;\n",
       "    }\n",
       "\n",
       "    .dataframe tbody tr th {\n",
       "        vertical-align: top;\n",
       "    }\n",
       "\n",
       "    .dataframe thead th {\n",
       "        text-align: right;\n",
       "    }\n",
       "</style>\n",
       "<table border=\"1\" class=\"dataframe\">\n",
       "  <thead>\n",
       "    <tr style=\"text-align: right;\">\n",
       "      <th></th>\n",
       "      <th>Unnamed: 0</th>\n",
       "      <th>GSM505327</th>\n",
       "      <th>GSM505337</th>\n",
       "      <th>GSM505339</th>\n",
       "      <th>GSM505341</th>\n",
       "      <th>GSM505345</th>\n",
       "      <th>GSM505346</th>\n",
       "      <th>GSM505347</th>\n",
       "      <th>GSM505349</th>\n",
       "      <th>GSM505350</th>\n",
       "      <th>...</th>\n",
       "      <th>GSM505591</th>\n",
       "      <th>GSM505592</th>\n",
       "      <th>GSM505593</th>\n",
       "      <th>GSM505594</th>\n",
       "      <th>GSM505597</th>\n",
       "      <th>GSM505598</th>\n",
       "      <th>GSM505599</th>\n",
       "      <th>GSM505600</th>\n",
       "      <th>GSM505602</th>\n",
       "      <th>GSM505603</th>\n",
       "    </tr>\n",
       "  </thead>\n",
       "  <tbody>\n",
       "    <tr>\n",
       "      <th>0</th>\n",
       "      <td>response</td>\n",
       "      <td>RD</td>\n",
       "      <td>RD</td>\n",
       "      <td>pCR</td>\n",
       "      <td>pCR</td>\n",
       "      <td>RD</td>\n",
       "      <td>RD</td>\n",
       "      <td>RD</td>\n",
       "      <td>pCR</td>\n",
       "      <td>RD</td>\n",
       "      <td>...</td>\n",
       "      <td>RD</td>\n",
       "      <td>RD</td>\n",
       "      <td>RD</td>\n",
       "      <td>RD</td>\n",
       "      <td>RD</td>\n",
       "      <td>pCR</td>\n",
       "      <td>RD</td>\n",
       "      <td>RD</td>\n",
       "      <td>RD</td>\n",
       "      <td>RD</td>\n",
       "    </tr>\n",
       "    <tr>\n",
       "      <th>1</th>\n",
       "      <td>MIR4640///DDR1</td>\n",
       "      <td>12.444</td>\n",
       "      <td>12.4537</td>\n",
       "      <td>11.8757</td>\n",
       "      <td>12.5807</td>\n",
       "      <td>11.9077</td>\n",
       "      <td>11.8592</td>\n",
       "      <td>12.0612</td>\n",
       "      <td>12.3641</td>\n",
       "      <td>12.0602</td>\n",
       "      <td>...</td>\n",
       "      <td>11.6306</td>\n",
       "      <td>12.1274</td>\n",
       "      <td>12.5949</td>\n",
       "      <td>11.0304</td>\n",
       "      <td>12.4202</td>\n",
       "      <td>11.9979</td>\n",
       "      <td>11.9181</td>\n",
       "      <td>11.9971</td>\n",
       "      <td>11.4574</td>\n",
       "      <td>11.9181</td>\n",
       "    </tr>\n",
       "    <tr>\n",
       "      <th>2</th>\n",
       "      <td>RFC2</td>\n",
       "      <td>8.3774</td>\n",
       "      <td>7.5118</td>\n",
       "      <td>8.0035</td>\n",
       "      <td>8.0104</td>\n",
       "      <td>7.6548</td>\n",
       "      <td>8.7641</td>\n",
       "      <td>8.3111</td>\n",
       "      <td>8.9391</td>\n",
       "      <td>8.6066</td>\n",
       "      <td>...</td>\n",
       "      <td>8.7054</td>\n",
       "      <td>8.7217</td>\n",
       "      <td>7.8179</td>\n",
       "      <td>7.6113</td>\n",
       "      <td>7.8715</td>\n",
       "      <td>7.7001</td>\n",
       "      <td>6.8594</td>\n",
       "      <td>7.1246</td>\n",
       "      <td>8.0488</td>\n",
       "      <td>7.389</td>\n",
       "    </tr>\n",
       "    <tr>\n",
       "      <th>3</th>\n",
       "      <td>HSPA6</td>\n",
       "      <td>6.7866</td>\n",
       "      <td>8.2514</td>\n",
       "      <td>8.1103</td>\n",
       "      <td>7.5885</td>\n",
       "      <td>9.1468</td>\n",
       "      <td>6.7698</td>\n",
       "      <td>8.0799</td>\n",
       "      <td>7.882</td>\n",
       "      <td>7.6073</td>\n",
       "      <td>...</td>\n",
       "      <td>7.5483</td>\n",
       "      <td>8.3809</td>\n",
       "      <td>7.5622</td>\n",
       "      <td>8.4018</td>\n",
       "      <td>7.5772</td>\n",
       "      <td>6.4521</td>\n",
       "      <td>8.429</td>\n",
       "      <td>8.224</td>\n",
       "      <td>8.2875</td>\n",
       "      <td>8.2965</td>\n",
       "    </tr>\n",
       "    <tr>\n",
       "      <th>4</th>\n",
       "      <td>PAX8</td>\n",
       "      <td>10.2851</td>\n",
       "      <td>10.8806</td>\n",
       "      <td>10.6567</td>\n",
       "      <td>10.1383</td>\n",
       "      <td>11.5483</td>\n",
       "      <td>10.6987</td>\n",
       "      <td>10.6865</td>\n",
       "      <td>10.1676</td>\n",
       "      <td>10.6249</td>\n",
       "      <td>...</td>\n",
       "      <td>10.5137</td>\n",
       "      <td>10.6423</td>\n",
       "      <td>10.369</td>\n",
       "      <td>11.3001</td>\n",
       "      <td>11.3879</td>\n",
       "      <td>10.9807</td>\n",
       "      <td>11.5083</td>\n",
       "      <td>10.7761</td>\n",
       "      <td>11.0754</td>\n",
       "      <td>10.8386</td>\n",
       "    </tr>\n",
       "    <tr>\n",
       "      <th>...</th>\n",
       "      <td>...</td>\n",
       "      <td>...</td>\n",
       "      <td>...</td>\n",
       "      <td>...</td>\n",
       "      <td>...</td>\n",
       "      <td>...</td>\n",
       "      <td>...</td>\n",
       "      <td>...</td>\n",
       "      <td>...</td>\n",
       "      <td>...</td>\n",
       "      <td>...</td>\n",
       "      <td>...</td>\n",
       "      <td>...</td>\n",
       "      <td>...</td>\n",
       "      <td>...</td>\n",
       "      <td>...</td>\n",
       "      <td>...</td>\n",
       "      <td>...</td>\n",
       "      <td>...</td>\n",
       "      <td>...</td>\n",
       "      <td>...</td>\n",
       "    </tr>\n",
       "    <tr>\n",
       "      <th>13295</th>\n",
       "      <td>FAM86DP///FAM86B2///FAM86FP///FAM86B1///FAM86C1</td>\n",
       "      <td>8.5051</td>\n",
       "      <td>8.5766</td>\n",
       "      <td>8.5403</td>\n",
       "      <td>7.9241</td>\n",
       "      <td>7.2227</td>\n",
       "      <td>7.7947</td>\n",
       "      <td>8.219</td>\n",
       "      <td>8.0514</td>\n",
       "      <td>7.048</td>\n",
       "      <td>...</td>\n",
       "      <td>8.5664</td>\n",
       "      <td>8.9262</td>\n",
       "      <td>8.761</td>\n",
       "      <td>7.7666</td>\n",
       "      <td>8.2993</td>\n",
       "      <td>8.8653</td>\n",
       "      <td>8.3577</td>\n",
       "      <td>7.4649</td>\n",
       "      <td>8.3421</td>\n",
       "      <td>7.7428</td>\n",
       "    </tr>\n",
       "    <tr>\n",
       "      <th>13296</th>\n",
       "      <td>SNHG17</td>\n",
       "      <td>8.417</td>\n",
       "      <td>8.8085</td>\n",
       "      <td>9.9117</td>\n",
       "      <td>8.9754</td>\n",
       "      <td>9.1001</td>\n",
       "      <td>9.4642</td>\n",
       "      <td>8.159</td>\n",
       "      <td>8.6066</td>\n",
       "      <td>7.9843</td>\n",
       "      <td>...</td>\n",
       "      <td>9.6782</td>\n",
       "      <td>8.7501</td>\n",
       "      <td>8.4215</td>\n",
       "      <td>9.0027</td>\n",
       "      <td>8.8195</td>\n",
       "      <td>8.0856</td>\n",
       "      <td>9.0823</td>\n",
       "      <td>8.8814</td>\n",
       "      <td>9.2724</td>\n",
       "      <td>8.5136</td>\n",
       "    </tr>\n",
       "    <tr>\n",
       "      <th>13297</th>\n",
       "      <td>HNRNPUL2BSCL2///HNRNPUL2</td>\n",
       "      <td>6.7108</td>\n",
       "      <td>7.7507</td>\n",
       "      <td>6.2477</td>\n",
       "      <td>6.2028</td>\n",
       "      <td>7.3382</td>\n",
       "      <td>7.4923</td>\n",
       "      <td>7.1253</td>\n",
       "      <td>7.0082</td>\n",
       "      <td>6.9644</td>\n",
       "      <td>...</td>\n",
       "      <td>6.8133</td>\n",
       "      <td>6.958</td>\n",
       "      <td>6.8581</td>\n",
       "      <td>6.9429</td>\n",
       "      <td>7.2944</td>\n",
       "      <td>6.5897</td>\n",
       "      <td>4.4206</td>\n",
       "      <td>7.7323</td>\n",
       "      <td>7.7647</td>\n",
       "      <td>6.7397</td>\n",
       "    </tr>\n",
       "    <tr>\n",
       "      <th>13298</th>\n",
       "      <td>LOC100505915</td>\n",
       "      <td>5.7872</td>\n",
       "      <td>7.9462</td>\n",
       "      <td>4.1954</td>\n",
       "      <td>5.4359</td>\n",
       "      <td>7.5612</td>\n",
       "      <td>5.6228</td>\n",
       "      <td>5.198</td>\n",
       "      <td>4.7518</td>\n",
       "      <td>5.6967</td>\n",
       "      <td>...</td>\n",
       "      <td>6.632</td>\n",
       "      <td>5.5351</td>\n",
       "      <td>7.0834</td>\n",
       "      <td>6.3202</td>\n",
       "      <td>6.4521</td>\n",
       "      <td>6.5988</td>\n",
       "      <td>6.0652</td>\n",
       "      <td>5.4339</td>\n",
       "      <td>7.9446</td>\n",
       "      <td>6.7938</td>\n",
       "    </tr>\n",
       "    <tr>\n",
       "      <th>13299</th>\n",
       "      <td>NPEPL1</td>\n",
       "      <td>8.2761</td>\n",
       "      <td>8.844</td>\n",
       "      <td>7.7677</td>\n",
       "      <td>8.6579</td>\n",
       "      <td>7.7085</td>\n",
       "      <td>7.2129</td>\n",
       "      <td>7.3555</td>\n",
       "      <td>7.1649</td>\n",
       "      <td>7.2284</td>\n",
       "      <td>...</td>\n",
       "      <td>6.9355</td>\n",
       "      <td>7.4937</td>\n",
       "      <td>8.0271</td>\n",
       "      <td>6.7503</td>\n",
       "      <td>7.9793</td>\n",
       "      <td>6.8087</td>\n",
       "      <td>8.2546</td>\n",
       "      <td>7.4215</td>\n",
       "      <td>7.8978</td>\n",
       "      <td>6.0143</td>\n",
       "    </tr>\n",
       "  </tbody>\n",
       "</table>\n",
       "<p>13300 rows × 140 columns</p>\n",
       "</div>"
      ],
      "text/plain": [
       "                                            Unnamed: 0 GSM505327 GSM505337  \\\n",
       "0                                             response        RD        RD   \n",
       "1                                       MIR4640///DDR1    12.444   12.4537   \n",
       "2                                                 RFC2    8.3774    7.5118   \n",
       "3                                                HSPA6    6.7866    8.2514   \n",
       "4                                                 PAX8   10.2851   10.8806   \n",
       "...                                                ...       ...       ...   \n",
       "13295  FAM86DP///FAM86B2///FAM86FP///FAM86B1///FAM86C1    8.5051    8.5766   \n",
       "13296                                           SNHG17     8.417    8.8085   \n",
       "13297                         HNRNPUL2BSCL2///HNRNPUL2    6.7108    7.7507   \n",
       "13298                                     LOC100505915    5.7872    7.9462   \n",
       "13299                                           NPEPL1    8.2761     8.844   \n",
       "\n",
       "      GSM505339 GSM505341 GSM505345 GSM505346 GSM505347 GSM505349 GSM505350  \\\n",
       "0           pCR       pCR        RD        RD        RD       pCR        RD   \n",
       "1       11.8757   12.5807   11.9077   11.8592   12.0612   12.3641   12.0602   \n",
       "2        8.0035    8.0104    7.6548    8.7641    8.3111    8.9391    8.6066   \n",
       "3        8.1103    7.5885    9.1468    6.7698    8.0799     7.882    7.6073   \n",
       "4       10.6567   10.1383   11.5483   10.6987   10.6865   10.1676   10.6249   \n",
       "...         ...       ...       ...       ...       ...       ...       ...   \n",
       "13295    8.5403    7.9241    7.2227    7.7947     8.219    8.0514     7.048   \n",
       "13296    9.9117    8.9754    9.1001    9.4642     8.159    8.6066    7.9843   \n",
       "13297    6.2477    6.2028    7.3382    7.4923    7.1253    7.0082    6.9644   \n",
       "13298    4.1954    5.4359    7.5612    5.6228     5.198    4.7518    5.6967   \n",
       "13299    7.7677    8.6579    7.7085    7.2129    7.3555    7.1649    7.2284   \n",
       "\n",
       "       ... GSM505591 GSM505592 GSM505593 GSM505594 GSM505597 GSM505598  \\\n",
       "0      ...        RD        RD        RD        RD        RD       pCR   \n",
       "1      ...   11.6306   12.1274   12.5949   11.0304   12.4202   11.9979   \n",
       "2      ...    8.7054    8.7217    7.8179    7.6113    7.8715    7.7001   \n",
       "3      ...    7.5483    8.3809    7.5622    8.4018    7.5772    6.4521   \n",
       "4      ...   10.5137   10.6423    10.369   11.3001   11.3879   10.9807   \n",
       "...    ...       ...       ...       ...       ...       ...       ...   \n",
       "13295  ...    8.5664    8.9262     8.761    7.7666    8.2993    8.8653   \n",
       "13296  ...    9.6782    8.7501    8.4215    9.0027    8.8195    8.0856   \n",
       "13297  ...    6.8133     6.958    6.8581    6.9429    7.2944    6.5897   \n",
       "13298  ...     6.632    5.5351    7.0834    6.3202    6.4521    6.5988   \n",
       "13299  ...    6.9355    7.4937    8.0271    6.7503    7.9793    6.8087   \n",
       "\n",
       "      GSM505599 GSM505600 GSM505602 GSM505603  \n",
       "0            RD        RD        RD        RD  \n",
       "1       11.9181   11.9971   11.4574   11.9181  \n",
       "2        6.8594    7.1246    8.0488     7.389  \n",
       "3         8.429     8.224    8.2875    8.2965  \n",
       "4       11.5083   10.7761   11.0754   10.8386  \n",
       "...         ...       ...       ...       ...  \n",
       "13295    8.3577    7.4649    8.3421    7.7428  \n",
       "13296    9.0823    8.8814    9.2724    8.5136  \n",
       "13297    4.4206    7.7323    7.7647    6.7397  \n",
       "13298    6.0652    5.4339    7.9446    6.7938  \n",
       "13299    8.2546    7.4215    7.8978    6.0143  \n",
       "\n",
       "[13300 rows x 140 columns]"
      ]
     },
     "metadata": {},
     "output_type": "display_data"
    }
   ],
   "source": [
    "data = pd.read_csv('data3.csv')\n",
    "display(data)"
   ]
  },
  {
   "cell_type": "code",
   "execution_count": 3,
   "id": "3563ab87",
   "metadata": {},
   "outputs": [],
   "source": [
    "y = data.iloc[0,1:]\n",
    "y_encode = np.where(y == \"pCR\", 0, 1)\n",
    "gene = data.iloc[1:,1:]\n",
    "gene_names=data.iloc[1:,0]"
   ]
  },
  {
   "cell_type": "code",
   "execution_count": 4,
   "id": "13828b00",
   "metadata": {},
   "outputs": [
    {
     "data": {
      "text/plain": [
       "2700"
      ]
     },
     "execution_count": 4,
     "metadata": {},
     "output_type": "execute_result"
    }
   ],
   "source": [
    "round(np.random.uniform(0,13299))"
   ]
  },
  {
   "cell_type": "code",
   "execution_count": 5,
   "id": "d0d8d97f",
   "metadata": {},
   "outputs": [
    {
     "data": {
      "image/png": "[encoded data removed]",
      "text/plain": [
       "<Figure size 432x288 with 1 Axes>"
      ]
     },
     "metadata": {
      "needs_background": "light"
     },
     "output_type": "display_data"
    },
    {
     "data": {
      "image/png": "[encoded data removed]",
      "text/plain": [
       "<Figure size 432x288 with 1 Axes>"
      ]
     },
     "metadata": {
      "needs_background": "light"
     },
     "output_type": "display_data"
    },
    {
     "data": {
      "image/png": "[encoded data removed]",
      "text/plain": [
       "<Figure size 432x288 with 1 Axes>"
      ]
     },
     "metadata": {
      "needs_background": "light"
     },
     "output_type": "display_data"
    },
    {
     "data": {
      "image/png": "[encoded data removed]",
      "text/plain": [
       "<Figure size 432x288 with 1 Axes>"
      ]
     },
     "metadata": {
      "needs_background": "light"
     },
     "output_type": "display_data"
    },
    {
     "data": {
      "image/png": "[encoded data removed]",
      "text/plain": [
       "<Figure size 432x288 with 1 Axes>"
      ]
     },
     "metadata": {
      "needs_background": "light"
     },
     "output_type": "display_data"
    },
    {
     "data": {
      "image/png": "[encoded data removed]",
      "text/plain": [
       "<Figure size 432x288 with 1 Axes>"
      ]
     },
     "metadata": {
      "needs_background": "light"
     },
     "output_type": "display_data"
    },
    {
     "data": {
      "image/png": "[encoded data removed]",
      "text/plain": [
       "<Figure size 432x288 with 1 Axes>"
      ]
     },
     "metadata": {
      "needs_background": "light"
     },
     "output_type": "display_data"
    },
    {
     "data": {
      "image/png": "[encoded data removed]",
      "text/plain": [
       "<Figure size 432x288 with 1 Axes>"
      ]
     },
     "metadata": {
      "needs_background": "light"
     },
     "output_type": "display_data"
    },
    {
     "data": {
      "image/png": "[encoded data removed]",
      "text/plain": [
       "<Figure size 432x288 with 1 Axes>"
      ]
     },
     "metadata": {
      "needs_background": "light"
     },
     "output_type": "display_data"
    },
    {
     "data": {
      "image/png": "[encoded data removed]",
      "text/plain": [
       "<Figure size 432x288 with 1 Axes>"
      ]
     },
     "metadata": {
      "needs_background": "light"
     },
     "output_type": "display_data"
    }
   ],
   "source": [
    "for i in range(10):\n",
    "    plt.figure()\n",
    "    k=round(np.random.uniform(0,13299))\n",
    "    plt.hist(np.array(gene.iloc[k,:],dtype=float),density=True)\n",
    "    plt.xlabel(gene_names[k])\n",
    "    plt.ylabel('Frequency')\n",
    "    plt.show()"
   ]
  },
  {
   "cell_type": "code",
   "execution_count": 6,
   "id": "795f8f36",
   "metadata": {},
   "outputs": [
    {
     "data": {
      "text/plain": [
       "Text(0.5, 1.0, 'Figure 1: Ratio of response')"
      ]
     },
     "execution_count": 6,
     "metadata": {},
     "output_type": "execute_result"
    },
    {
     "data": {
      "image/png": "[encoded data removed]",
      "text/plain": [
       "<Figure size 432x288 with 1 Axes>"
      ]
     },
     "metadata": {
      "needs_background": "light"
     },
     "output_type": "display_data"
    }
   ],
   "source": [
    "plt.hist(y)\n",
    "plt.title('Figure 1: Ratio of response')"
   ]
  },
  {
   "cell_type": "code",
   "execution_count": 7,
   "id": "19b9177c",
   "metadata": {},
   "outputs": [],
   "source": [
    "corr=[]\n",
    "for i in range(13299):\n",
    "    corr.append(abs(pearsonr(np.float64(y_encode),np.float64(gene.iloc[i,:]))[0]))"
   ]
  },
  {
   "cell_type": "code",
   "execution_count": 8,
   "id": "1a14d81c",
   "metadata": {},
   "outputs": [],
   "source": [
    "import copy \n",
    "t = copy.deepcopy(corr)\n",
    "max_number = []\n",
    "max_index_corr = []\n",
    "for _ in range(20):\n",
    "    number = max(t)\n",
    "    index = t.index(number)\n",
    "    t[index] = 0\n",
    "    max_number.append(number)\n",
    "    max_index_corr.append(index)\n",
    "t = []"
   ]
  },
  {
   "cell_type": "code",
   "execution_count": 9,
   "id": "5f6e4cfd",
   "metadata": {},
   "outputs": [
    {
     "name": "stdout",
     "output_type": "stream",
     "text": [
      "[ 4046  3369 13108  3498 10733  3902 10386 10836   713  3058   245  2967\n",
      "  3502  1794  2100   436  1658 10295  7951  1407]\n",
      "4046        SPIB\n",
      "3369      CYP2J2\n",
      "13108      TJAP1\n",
      "3498       SURF2\n",
      "10733      RNF25\n",
      "3902         SDS\n",
      "10386       ENY2\n",
      "10836     COL5A3\n",
      "713        PFDN1\n",
      "3058      ATP2B2\n",
      "245       IQGAP1\n",
      "2967       ABCG1\n",
      "3502       RBMS2\n",
      "1794       TTC37\n",
      "2100        STX7\n",
      "436        SNU13\n",
      "1658       CNPY2\n",
      "10295    CARHSP1\n",
      "7951       SETD2\n",
      "1407     TNFAIP2\n",
      "Name: Unnamed: 0, dtype: object\n"
     ]
    }
   ],
   "source": [
    "print(np.array(max_index_corr))\n",
    "print(gene_names[max_index_corr])"
   ]
  },
  {
   "cell_type": "code",
   "execution_count": 10,
   "id": "5d1fcc64",
   "metadata": {},
   "outputs": [],
   "source": [
    "genes_maxcorr = gene.iloc[max_index_corr]"
   ]
  },
  {
   "cell_type": "code",
   "execution_count": 11,
   "id": "bd7ee086",
   "metadata": {},
   "outputs": [],
   "source": [
    "#100 largest corr genes\n",
    "genes_maxcorr = genes_maxcorr.transpose()"
   ]
  },
  {
   "cell_type": "code",
   "execution_count": 12,
   "id": "07671a1e",
   "metadata": {},
   "outputs": [],
   "source": [
    "corr_genes = np.float32(genes_maxcorr)"
   ]
  },
  {
   "cell_type": "code",
   "execution_count": 13,
   "id": "931311eb",
   "metadata": {},
   "outputs": [
    {
     "data": {
      "text/plain": [
       "(139, 139)"
      ]
     },
     "execution_count": 13,
     "metadata": {},
     "output_type": "execute_result"
    }
   ],
   "source": [
    "np.corrcoef(corr_genes).shape"
   ]
  },
  {
   "cell_type": "code",
   "execution_count": 14,
   "id": "8fa68f3a",
   "metadata": {},
   "outputs": [
    {
     "data": {
      "text/plain": [
       "<AxesSubplot:>"
      ]
     },
     "execution_count": 14,
     "metadata": {},
     "output_type": "execute_result"
    },
    {
     "data": {
      "image/png": "[encoded data removed]",
      "text/plain": [
       "<Figure size 432x288 with 2 Axes>"
      ]
     },
     "metadata": {
      "needs_background": "light"
     },
     "output_type": "display_data"
    }
   ],
   "source": [
    "seaborn.heatmap(np.corrcoef(corr_genes))"
   ]
  },
  {
   "cell_type": "code",
   "execution_count": 15,
   "id": "f364824b",
   "metadata": {},
   "outputs": [],
   "source": [
    "def entropy(df):\n",
    "    array = np.array(df.value_counts()/df.size)\n",
    "    return sum([array[i]*np.log2(1/array[i]) for i in range(array.size)])\n",
    "def con_entropy(df_X,df_Y):\n",
    "    cate = np.unique(df_Y)\n",
    "    con_entro = []\n",
    "    for i in cate:\n",
    "        df = df_X[df_Y==i]\n",
    "        con_entro.append(entropy(df))\n",
    "    P_Y = np.array(pd.DataFrame(df_Y).value_counts()/df_Y.size)\n",
    "    return sum(con_entro*P_Y)"
   ]
  },
  {
   "cell_type": "code",
   "execution_count": 16,
   "id": "bb4613b5",
   "metadata": {},
   "outputs": [],
   "source": [
    "# mutual information\n",
    "data_pheno = y_encode\n",
    "data_trans = gene\n",
    "I_list = []\n",
    "for i in range(data_trans.shape[0]):\n",
    "    H_trans = entropy(data_trans.iloc[i,:])\n",
    "    H_trans_pheno = con_entropy(data_trans.iloc[i,:],data_pheno)\n",
    "    I_list.append(H_trans-H_trans_pheno)"
   ]
  },
  {
   "cell_type": "code",
   "execution_count": 17,
   "id": "ff9df351",
   "metadata": {},
   "outputs": [],
   "source": [
    "t = copy.deepcopy(I_list)\n",
    "max_number_I = []\n",
    "max_index_I = []\n",
    "for _ in range(20):\n",
    "    number = max(t)\n",
    "    index = t.index(number)\n",
    "    t[index] = 0\n",
    "    max_number_I.append(number)\n",
    "    max_index_I.append(index)\n",
    "t = []"
   ]
  },
  {
   "cell_type": "code",
   "execution_count": 18,
   "id": "ad38da87",
   "metadata": {},
   "outputs": [],
   "source": [
    "genes_maxI = gene.iloc[max_index_I]\n",
    "genes_maxI = genes_maxI.transpose()"
   ]
  },
  {
   "cell_type": "code",
   "execution_count": 19,
   "id": "cfea49cc",
   "metadata": {},
   "outputs": [
    {
     "name": "stdout",
     "output_type": "stream",
     "text": [
      "12414       FRMD1\n",
      "18           PLD1\n",
      "39            FAU\n",
      "42          RPL18\n",
      "383         HIF1A\n",
      "386          IPO7\n",
      "570          SDC1\n",
      "762          TMX4\n",
      "769         ANXA2\n",
      "1098          MX1\n",
      "1159        VEZF1\n",
      "1285        TRIM2\n",
      "1389       AFG3L2\n",
      "1586        CASP3\n",
      "1813        MYO1E\n",
      "1891         TFAM\n",
      "1926         CLK2\n",
      "2087         EML3\n",
      "2102        VPS16\n",
      "2204     DYNC1LI2\n",
      "Name: Unnamed: 0, dtype: object\n"
     ]
    }
   ],
   "source": [
    "print(gene_names[max_index_I])"
   ]
  },
  {
   "cell_type": "code",
   "execution_count": 20,
   "id": "8b8be956",
   "metadata": {},
   "outputs": [],
   "source": [
    "# wilcoxson rank-sum test\n",
    "X_data = np.array(data.iloc[1:,1:],dtype=float).reshape(-1,13299)\n",
    "gene_names=data.iloc[1:,0]"
   ]
  },
  {
   "cell_type": "code",
   "execution_count": 21,
   "id": "8e6e2c06",
   "metadata": {},
   "outputs": [],
   "source": [
    "X_data_0 = X_data[np.where(y_encode==0)[0],:]\n",
    "X_data_1 = X_data[np.where(y_encode==1)[0],:]"
   ]
  },
  {
   "cell_type": "code",
   "execution_count": 22,
   "id": "4fb7f6e9",
   "metadata": {},
   "outputs": [],
   "source": [
    "P_list=[]\n",
    "for i in range(X_data.shape[1]):\n",
    "    P = scipy.stats.ranksums(X_data_0[:,i],X_data_1[:,i])[1]\n",
    "    P_list.append(P)"
   ]
  },
  {
   "cell_type": "code",
   "execution_count": 23,
   "id": "88ace814",
   "metadata": {},
   "outputs": [],
   "source": [
    "import heapq\n",
    "min_index_wil = np.argsort(P_list)[0:20]\n",
    "min_index_wil = list(min_index_wil)"
   ]
  },
  {
   "cell_type": "code",
   "execution_count": 24,
   "id": "956d66ce",
   "metadata": {},
   "outputs": [],
   "source": [
    "genes_wil = gene.iloc[min_index_wil]\n",
    "genes_wil = genes_wil.transpose()"
   ]
  },
  {
   "cell_type": "code",
   "execution_count": 25,
   "id": "13838e41",
   "metadata": {},
   "outputs": [
    {
     "name": "stdout",
     "output_type": "stream",
     "text": [
      "9777                     TRIM44\n",
      "5060     LOC101928635///ALDH1A2\n",
      "8188                       MISP\n",
      "9778                       ADI1\n",
      "8203                      NCAPH\n",
      "556                      NUDCD3\n",
      "564         LOC101926921///DAB2\n",
      "8190                     TSPYL4\n",
      "8260                      NTAN1\n",
      "12028                     PAQR5\n",
      "8180                     THAP11\n",
      "11823                     MCUR1\n",
      "8175                     LRRC47\n",
      "8227      MZT2A///MZT2B///PHGDH\n",
      "9788                     NDUFA4\n",
      "8194                      MCF2L\n",
      "2312                       BAK1\n",
      "9746                      EIF3L\n",
      "9767                      COPG1\n",
      "568                        APEH\n",
      "Name: Unnamed: 0, dtype: object\n"
     ]
    }
   ],
   "source": [
    "print(gene_names[min_index_wil])"
   ]
  },
  {
   "cell_type": "code",
   "execution_count": 26,
   "id": "cea12c49",
   "metadata": {},
   "outputs": [],
   "source": [
    "# From now, we have three sets of genes based on correlations, mutual information and wilcoxson rank-sum\n",
    "# Next, we build models based on these three data sets"
   ]
  },
  {
   "cell_type": "code",
   "execution_count": 27,
   "id": "07843a32",
   "metadata": {},
   "outputs": [
    {
     "data": {
      "text/plain": [
       "Text(0.5, 1.0, 'Figure 3: first two genes in set B')"
      ]
     },
     "execution_count": 27,
     "metadata": {},
     "output_type": "execute_result"
    },
    {
     "data": {
      "image/png": "[encoded data removed]",
      "text/plain": [
       "<Figure size 432x288 with 1 Axes>"
      ]
     },
     "metadata": {
      "needs_background": "light"
     },
     "output_type": "display_data"
    }
   ],
   "source": [
    "from matplotlib.colors import ListedColormap\n",
    "# scatter plot for max 2 corrlations\n",
    "x = np.array(genes_maxcorr.iloc[:,0],dtype=float)\n",
    "y = np.array(genes_maxcorr.iloc[:,1],dtype=float)\n",
    "classes = ['pCR', 'RD']\n",
    "values = y_encode\n",
    "colors = ListedColormap(['r','b'])\n",
    "scatter = plt.scatter(x, y, c=values, cmap=colors)\n",
    "plt.legend(handles=scatter.legend_elements()[0], labels=classes)\n",
    "plt.xlabel(gene_names[max_index_corr[0]])\n",
    "plt.ylabel(gene_names[max_index_corr[1]])\n",
    "plt.title('Figure 3: first two genes in set B')"
   ]
  },
  {
   "cell_type": "code",
   "execution_count": 28,
   "id": "2e1ceb6f",
   "metadata": {},
   "outputs": [
    {
     "data": {
      "text/plain": [
       "Text(0.5, 1.0, 'Figure 2: first two genes in set A')"
      ]
     },
     "execution_count": 28,
     "metadata": {},
     "output_type": "execute_result"
    },
    {
     "data": {
      "image/png": "[encoded data removed]",
      "text/plain": [
       "<Figure size 432x288 with 1 Axes>"
      ]
     },
     "metadata": {
      "needs_background": "light"
     },
     "output_type": "display_data"
    }
   ],
   "source": [
    "# scatter plot for max 2 mutual information\n",
    "x = np.array(genes_maxI.iloc[:,0],dtype=float)\n",
    "y = np.array(genes_maxI.iloc[:,1],dtype=float)\n",
    "classes = ['pCR', 'RD']\n",
    "values = y_encode\n",
    "colors = ListedColormap(['r','b'])\n",
    "scatter = plt.scatter(x, y, c=values, cmap=colors)\n",
    "plt.legend(handles=scatter.legend_elements()[0], labels=classes)\n",
    "plt.xlabel(gene_names[max_index_I[0]])\n",
    "plt.ylabel(gene_names[max_index_I[1]])\n",
    "plt.title('Figure 2: first two genes in set A')"
   ]
  },
  {
   "cell_type": "code",
   "execution_count": 29,
   "id": "62af2cea",
   "metadata": {},
   "outputs": [
    {
     "data": {
      "text/plain": [
       "Text(0.5, 1.0, 'Figure 4: first two genes in set C')"
      ]
     },
     "execution_count": 29,
     "metadata": {},
     "output_type": "execute_result"
    },
    {
     "data": {
      "image/png": "[encoded data removed]",
      "text/plain": [
       "<Figure size 432x288 with 1 Axes>"
      ]
     },
     "metadata": {
      "needs_background": "light"
     },
     "output_type": "display_data"
    }
   ],
   "source": [
    "# scatter plot for min 2 p-values for wilcoxson\n",
    "x = np.array(genes_wil.iloc[:,0],dtype=float)\n",
    "y = np.array(genes_wil.iloc[:,1],dtype=float)\n",
    "classes = ['pCR', 'RD']\n",
    "values = y_encode\n",
    "colors = ListedColormap(['r','b'])\n",
    "scatter = plt.scatter(x, y, c=values, cmap=colors)\n",
    "plt.legend(handles=scatter.legend_elements()[0], labels=classes)\n",
    "plt.xlabel(gene_names[min_index_wil[0]])\n",
    "plt.ylabel(gene_names[min_index_wil[1]])\n",
    "plt.title('Figure 4: first two genes in set C')"
   ]
  },
  {
   "cell_type": "code",
   "execution_count": 30,
   "id": "bb9e7b74",
   "metadata": {},
   "outputs": [],
   "source": [
    "#Logistics rg\n",
    "from sklearn.linear_model import LogisticRegression\n",
    "from sklearn.model_selection import train_test_split, GridSearchCV, cross_val_score, RepeatedStratifiedKFold, StratifiedKFold"
   ]
  },
  {
   "cell_type": "code",
   "execution_count": 31,
   "id": "66e5c53c",
   "metadata": {},
   "outputs": [],
   "source": [
    "# Train test split\n",
    "X_train_corr, X_test_corr, y_train_corr, y_test_corr =  train_test_split(genes_maxcorr,y_encode,test_size=0.3,stratify=y_encode,random_state=423)\n",
    "X_train_I, X_test_I, y_train_I, y_test_I =  train_test_split(genes_maxI,y_encode,test_size=0.3,stratify=y_encode,random_state=423)\n",
    "X_train_wil, X_test_wil, y_train_wil, y_test_wil =  train_test_split(genes_wil,y_encode,test_size=0.3,stratify=y_encode,random_state=423)\n"
   ]
  },
  {
   "cell_type": "code",
   "execution_count": 32,
   "id": "b1070359",
   "metadata": {},
   "outputs": [],
   "source": [
    "# train\n",
    "lg_corr = LogisticRegression(random_state=666, max_iter = 1000).fit(X_train_corr,y_train_corr)\n",
    "lg_I =  LogisticRegression(random_state=666, max_iter = 1000).fit(X_train_I,y_train_I)\n",
    "lg_wil =  LogisticRegression(random_state=666, max_iter = 1000).fit(X_train_wil,y_train_wil)"
   ]
  },
  {
   "cell_type": "code",
   "execution_count": 33,
   "id": "d9e45f26",
   "metadata": {},
   "outputs": [],
   "source": [
    "# predict\n",
    "y_pred_corr = lg_corr.predict(X_test_corr)\n",
    "y_pred_I = lg_I.predict(X_test_I)\n",
    "y_pred_wil = lg_wil.predict(X_test_wil)\n",
    "\n",
    "y_proba_corr = lg_corr.predict_proba(X_test_corr)\n",
    "y_proba_I = lg_I.predict_proba(X_test_I)\n",
    "y_proba_wil = lg_wil.predict_proba(X_test_wil)"
   ]
  },
  {
   "cell_type": "code",
   "execution_count": 34,
   "id": "c639f10b",
   "metadata": {},
   "outputs": [
    {
     "name": "stdout",
     "output_type": "stream",
     "text": [
      "Accuracy score for logistics model with max correlations: 0.9047619047619048\n",
      "Accuracy score for logistics model with max mutual informations: 0.6904761904761905\n",
      "Accuracy score for logistics model with min Wilcoxson rank-sum test P-values: 0.8095238095238095\n"
     ]
    },
    {
     "data": {
      "text/plain": [
       "Text(0.5, 1.0, 'Logistics Regression')"
      ]
     },
     "execution_count": 34,
     "metadata": {},
     "output_type": "execute_result"
    },
    {
     "data": {
      "image/png": "[encoded data removed]",
      "text/plain": [
       "<Figure size 432x288 with 1 Axes>"
      ]
     },
     "metadata": {
      "needs_background": "light"
     },
     "output_type": "display_data"
    }
   ],
   "source": [
    "# performance\n",
    "print(f'Accuracy score for logistics model with max correlations: {accuracy_score(y_test_corr,y_pred_corr)}')\n",
    "print(f'Accuracy score for logistics model with max mutual informations: {accuracy_score(y_test_I,y_pred_I)}')\n",
    "print(f'Accuracy score for logistics model with min Wilcoxson rank-sum test P-values: {accuracy_score(y_test_wil,y_pred_wil)}')\n",
    "\n",
    "proba_list = [y_proba_corr,y_proba_I,y_proba_wil]\n",
    "test_list = [y_test_corr,y_test_I,y_test_wil]\n",
    "name_list = ['LR correlations','LR mutual informations','LR Wilcoxson']\n",
    "i=0\n",
    "for proba in proba_list:\n",
    "    fpr, tpr, _ = roc_curve(test_list[i], proba[:,1])\n",
    "    auc = roc_auc_score(test_list[i], proba[:,1])\n",
    "    plt.plot(fpr, tpr, marker='.', label= '%s,AUC = %0.2f' % (name_list[i],auc))\n",
    "    plt.xlabel('False Positive Rate')\n",
    "    plt.ylabel('True Positive Rate')\n",
    "    plt.legend(loc='best')\n",
    "    i=i+1\n",
    "plt.title('Logistics Regression')"
   ]
  },
  {
   "cell_type": "code",
   "execution_count": 35,
   "id": "9566a276",
   "metadata": {},
   "outputs": [],
   "source": [
    "#SVM\n",
    "from sklearn.svm import SVC\n",
    "svm_corr = SVC(class_weight='balanced', probability= True ).fit(X_train_corr,y_train_corr)\n",
    "svm_I =  SVC(class_weight='balanced', probability= True ).fit(X_train_I,y_train_I)\n",
    "svm_wil =  SVC(class_weight='balanced', probability= True ).fit(X_train_wil,y_train_wil)\n"
   ]
  },
  {
   "cell_type": "code",
   "execution_count": 36,
   "id": "42e9edb1",
   "metadata": {},
   "outputs": [],
   "source": [
    "# predict\n",
    "y_pred_corr_svm = svm_corr.predict(X_test_corr)\n",
    "y_pred_I_svm = svm_I.predict(X_test_I)\n",
    "y_pred_wil_svm = svm_wil.predict(X_test_wil)\n",
    "\n",
    "y_proba_corr_svm = svm_corr.predict_proba(X_test_corr)\n",
    "y_proba_I_svm = svm_I.predict_proba(X_test_I)\n",
    "y_proba_wil_svm = svm_wil.predict_proba(X_test_wil)"
   ]
  },
  {
   "cell_type": "code",
   "execution_count": 37,
   "id": "6330ae5d",
   "metadata": {},
   "outputs": [
    {
     "name": "stdout",
     "output_type": "stream",
     "text": [
      "Accuracy score for SVM with max correlations: 0.7857142857142857\n",
      "Accuracy score for SVM with max mutual informations: 0.5952380952380952\n",
      "Accuracy score for SVM with min Wilcoxson rank-sum test P-values: 0.7380952380952381\n"
     ]
    },
    {
     "data": {
      "text/plain": [
       "Text(0.5, 1.0, 'SVM')"
      ]
     },
     "execution_count": 37,
     "metadata": {},
     "output_type": "execute_result"
    },
    {
     "data": {
      "image/png": "[encoded data removed]",
      "text/plain": [
       "<Figure size 432x288 with 1 Axes>"
      ]
     },
     "metadata": {
      "needs_background": "light"
     },
     "output_type": "display_data"
    }
   ],
   "source": [
    "# performance\n",
    "print(f'Accuracy score for SVM with max correlations: {accuracy_score(y_test_corr,y_pred_corr_svm)}')\n",
    "print(f'Accuracy score for SVM with max mutual informations: {accuracy_score(y_test_I,y_pred_I_svm)}')\n",
    "print(f'Accuracy score for SVM with min Wilcoxson rank-sum test P-values: {accuracy_score(y_test_wil,y_pred_wil_svm)}')\n",
    "\n",
    "proba_list = [y_proba_corr_svm,y_proba_I_svm,y_proba_wil_svm]\n",
    "test_list = [y_test_corr,y_test_I,y_test_wil]\n",
    "name_list = ['SVM correlations','SVM mutual informations','SVM Wilcoxson']\n",
    "i=0\n",
    "for proba in proba_list:\n",
    "    fpr, tpr, _ = roc_curve(test_list[i], proba[:,1])\n",
    "    auc = roc_auc_score(test_list[i], proba[:,1])\n",
    "    plt.plot(fpr, tpr, marker='.', label= '%s,AUC = %0.2f' % (name_list[i],auc))\n",
    "    plt.xlabel('False Positive Rate')\n",
    "    plt.ylabel('True Positive Rate')\n",
    "    plt.legend(loc='best')\n",
    "    i=i+1\n",
    "plt.title('SVM')"
   ]
  },
  {
   "cell_type": "code",
   "execution_count": 38,
   "id": "05448448",
   "metadata": {},
   "outputs": [],
   "source": [
    "#LDA\n",
    "from sklearn.discriminant_analysis import LinearDiscriminantAnalysis as LDA\n",
    "lda_corr = LDA().fit(X_train_corr,y_train_corr)\n",
    "lda_I =  LDA().fit(X_train_I,y_train_I)\n",
    "lda_wil =  LDA().fit(X_train_wil,y_train_wil)\n"
   ]
  },
  {
   "cell_type": "code",
   "execution_count": 39,
   "id": "c5a6f0d8",
   "metadata": {},
   "outputs": [],
   "source": [
    "#predict\n",
    "y_pred_corr_lda = lda_corr.predict(X_test_corr)\n",
    "y_pred_I_lda = lda_I.predict(X_test_I)\n",
    "y_pred_wil_lda = lda_wil.predict(X_test_wil)\n",
    "\n",
    "y_proba_corr_lda = lda_corr.predict_proba(X_test_corr)\n",
    "y_proba_I_lda = lda_I.predict_proba(X_test_I)\n",
    "y_proba_wil_lda = lda_wil.predict_proba(X_test_wil)"
   ]
  },
  {
   "cell_type": "code",
   "execution_count": 40,
   "id": "502228b2",
   "metadata": {},
   "outputs": [
    {
     "name": "stdout",
     "output_type": "stream",
     "text": [
      "Accuracy score for LDA with max correlations: 0.8809523809523809\n",
      "Accuracy score for LDA with max mutual informations: 0.6904761904761905\n",
      "Accuracy score for LDA with min Wilcoxson rank-sum test P-values: 0.7857142857142857\n"
     ]
    },
    {
     "data": {
      "text/plain": [
       "Text(0.5, 1.0, 'LDA')"
      ]
     },
     "execution_count": 40,
     "metadata": {},
     "output_type": "execute_result"
    },
    {
     "data": {
      "image/png": "[encoded data removed]",
      "text/plain": [
       "<Figure size 432x288 with 1 Axes>"
      ]
     },
     "metadata": {
      "needs_background": "light"
     },
     "output_type": "display_data"
    }
   ],
   "source": [
    "# performance\n",
    "print(f'Accuracy score for LDA with max correlations: {accuracy_score(y_test_corr,y_pred_corr_lda)}')\n",
    "print(f'Accuracy score for LDA with max mutual informations: {accuracy_score(y_test_I,y_pred_I_lda)}')\n",
    "print(f'Accuracy score for LDA with min Wilcoxson rank-sum test P-values: {accuracy_score(y_test_wil,y_pred_wil_lda)}')\n",
    "\n",
    "proba_list = [y_proba_corr_lda,y_proba_I_lda,y_proba_wil_lda]\n",
    "test_list = [y_test_corr,y_test_I,y_test_wil]\n",
    "name_list = ['LDA correlations','LDA mutual informations','LDA Wilcoxson']\n",
    "i=0\n",
    "for proba in proba_list:\n",
    "    fpr, tpr, _ = roc_curve(test_list[i], proba[:,1])\n",
    "    auc = roc_auc_score(test_list[i], proba[:,1])\n",
    "    plt.plot(fpr, tpr, marker='.', label= '%s,AUC = %0.2f' % (name_list[i],auc))\n",
    "    plt.xlabel('False Positive Rate')\n",
    "    plt.ylabel('True Positive Rate')\n",
    "    plt.legend(loc='best')\n",
    "    i=i+1\n",
    "plt.title('LDA')"
   ]
  },
  {
   "cell_type": "code",
   "execution_count": 41,
   "id": "4962d60c",
   "metadata": {},
   "outputs": [
    {
     "name": "stderr",
     "output_type": "stream",
     "text": [
      "C:\\Users\\chenm\\anaconda3\\lib\\site-packages\\sklearn\\discriminant_analysis.py:878: UserWarning: Variables are collinear\n",
      "  warnings.warn(\"Variables are collinear\")\n",
      "C:\\Users\\chenm\\anaconda3\\lib\\site-packages\\sklearn\\discriminant_analysis.py:878: UserWarning: Variables are collinear\n",
      "  warnings.warn(\"Variables are collinear\")\n",
      "C:\\Users\\chenm\\anaconda3\\lib\\site-packages\\sklearn\\discriminant_analysis.py:878: UserWarning: Variables are collinear\n",
      "  warnings.warn(\"Variables are collinear\")\n"
     ]
    }
   ],
   "source": [
    "#QDA\n",
    "from sklearn.discriminant_analysis import QuadraticDiscriminantAnalysis as QDA\n",
    "qda_corr = QDA().fit(X_train_corr,y_train_corr)\n",
    "qda_I =  QDA().fit(X_train_I,y_train_I)\n",
    "qda_wil =  QDA().fit(X_train_wil,y_train_wil)"
   ]
  },
  {
   "cell_type": "code",
   "execution_count": 42,
   "id": "124f1870",
   "metadata": {},
   "outputs": [],
   "source": [
    "#predict\n",
    "y_pred_corr_qda = qda_corr.predict(X_test_corr)\n",
    "y_pred_I_qda = qda_I.predict(X_test_I)\n",
    "y_pred_wil_qda = qda_wil.predict(X_test_wil)\n",
    "\n",
    "y_proba_corr_qda = qda_corr.predict_proba(X_test_corr)\n",
    "y_proba_I_qda = qda_I.predict_proba(X_test_I)\n",
    "y_proba_wil_qda = qda_wil.predict_proba(X_test_wil)"
   ]
  },
  {
   "cell_type": "code",
   "execution_count": 43,
   "id": "5d2a3462",
   "metadata": {},
   "outputs": [
    {
     "name": "stdout",
     "output_type": "stream",
     "text": [
      "Accuracy score for QDA with max correlations: 0.8095238095238095\n",
      "Accuracy score for QDA with max mutual informations: 0.8095238095238095\n",
      "Accuracy score for QDA with min Wilcoxson rank-sum test P-values: 0.8095238095238095\n"
     ]
    },
    {
     "data": {
      "text/plain": [
       "Text(0.5, 1.0, 'QDA')"
      ]
     },
     "execution_count": 43,
     "metadata": {},
     "output_type": "execute_result"
    },
    {
     "data": {
      "image/png": "[encoded data removed]",
      "text/plain": [
       "<Figure size 432x288 with 1 Axes>"
      ]
     },
     "metadata": {
      "needs_background": "light"
     },
     "output_type": "display_data"
    }
   ],
   "source": [
    "# performance\n",
    "print(f'Accuracy score for QDA with max correlations: {accuracy_score(y_test_corr,y_pred_corr_qda)}')\n",
    "print(f'Accuracy score for QDA with max mutual informations: {accuracy_score(y_test_I,y_pred_I_qda)}')\n",
    "print(f'Accuracy score for QDA with min Wilcoxson rank-sum test P-values: {accuracy_score(y_test_wil,y_pred_wil_qda)}')\n",
    "\n",
    "proba_list = [y_proba_corr_qda,y_proba_I_qda,y_proba_wil_qda]\n",
    "test_list = [y_test_corr,y_test_I,y_test_wil]\n",
    "name_list = ['QDA correlations','QDA mutual informations','QDA Wilcoxson']\n",
    "i=0\n",
    "for proba in proba_list:\n",
    "    fpr, tpr, _ = roc_curve(test_list[i], proba[:,1])\n",
    "    auc = roc_auc_score(test_list[i], proba[:,1])\n",
    "    plt.plot(fpr, tpr, marker='.', label= '%s,AUC = %0.2f' % (name_list[i],auc))\n",
    "    plt.xlabel('False Positive Rate')\n",
    "    plt.ylabel('True Positive Rate')\n",
    "    plt.legend(loc='best')\n",
    "    i=i+1\n",
    "plt.title('QDA')"
   ]
  },
  {
   "cell_type": "code",
   "execution_count": 44,
   "id": "227732b0",
   "metadata": {},
   "outputs": [],
   "source": [
    "#random forest\n",
    "from sklearn.ensemble import RandomForestClassifier as rf\n",
    "rf_corr = rf(random_state=423,class_weight='balanced').fit(X_train_corr,y_train_corr)\n",
    "rf_I =  rf(random_state=423,class_weight='balanced').fit(X_train_I,y_train_I)\n",
    "rf_wil =  rf(random_state=423,class_weight='balanced').fit(X_train_wil,y_train_wil)"
   ]
  },
  {
   "cell_type": "code",
   "execution_count": 45,
   "id": "150dc91f",
   "metadata": {},
   "outputs": [],
   "source": [
    "#predict\n",
    "y_pred_corr_rf = rf_corr.predict(X_test_corr)\n",
    "y_pred_I_rf = rf_I.predict(X_test_I)\n",
    "y_pred_wil_rf = rf_wil.predict(X_test_wil)\n",
    "\n",
    "y_proba_corr_rf = rf_corr.predict_proba(X_test_corr)\n",
    "y_proba_I_rf = rf_I.predict_proba(X_test_I)\n",
    "y_proba_wil_rf = rf_wil.predict_proba(X_test_wil)"
   ]
  },
  {
   "cell_type": "code",
   "execution_count": 46,
   "id": "bab4f8f4",
   "metadata": {},
   "outputs": [
    {
     "name": "stdout",
     "output_type": "stream",
     "text": [
      "Accuracy score for RF with max correlations: 0.8809523809523809\n",
      "Accuracy score for RF with max mutual informations: 0.7857142857142857\n",
      "Accuracy score for RF with min Wilcoxson rank-sum test P-values: 0.8095238095238095\n"
     ]
    },
    {
     "data": {
      "text/plain": [
       "Text(0.5, 1.0, 'Random Forest')"
      ]
     },
     "execution_count": 46,
     "metadata": {},
     "output_type": "execute_result"
    },
    {
     "data": {
      "image/png": "[encoded data removed]",
      "text/plain": [
       "<Figure size 432x288 with 1 Axes>"
      ]
     },
     "metadata": {
      "needs_background": "light"
     },
     "output_type": "display_data"
    }
   ],
   "source": [
    "# performance\n",
    "print(f'Accuracy score for RF with max correlations: {accuracy_score(y_test_corr,y_pred_corr_rf)}')\n",
    "print(f'Accuracy score for RF with max mutual informations: {accuracy_score(y_test_I,y_pred_I_rf)}')\n",
    "print(f'Accuracy score for RF with min Wilcoxson rank-sum test P-values: {accuracy_score(y_test_wil,y_pred_wil_rf)}')\n",
    "\n",
    "proba_list = [y_proba_corr_rf,y_proba_I_rf,y_proba_wil_rf]\n",
    "test_list = [y_test_corr,y_test_I,y_test_wil]\n",
    "name_list = ['RF correlations','RF mutual informations','RF Wilcoxson']\n",
    "i=0\n",
    "for proba in proba_list:\n",
    "    fpr, tpr, _ = roc_curve(test_list[i], proba[:,1])\n",
    "    auc = roc_auc_score(test_list[i], proba[:,1])\n",
    "    plt.plot(fpr, tpr, marker='.', label= '%s,AUC = %0.2f' % (name_list[i],auc))\n",
    "    plt.xlabel('False Positive Rate')\n",
    "    plt.ylabel('True Positive Rate')\n",
    "    plt.legend(loc='best')\n",
    "    i=i+1\n",
    "plt.title('Random Forest')"
   ]
  },
  {
   "cell_type": "code",
   "execution_count": 47,
   "id": "0a810d91",
   "metadata": {},
   "outputs": [
    {
     "ename": "KeyboardInterrupt",
     "evalue": "",
     "output_type": "error",
     "traceback": [
      "\u001b[1;31m---------------------------------------------------------------------------\u001b[0m",
      "\u001b[1;31mKeyboardInterrupt\u001b[0m                         Traceback (most recent call last)",
      "\u001b[1;32m~\\AppData\\Local\\Temp/ipykernel_10872/3736310575.py\u001b[0m in \u001b[0;36m<module>\u001b[1;34m\u001b[0m\n\u001b[0;32m      1\u001b[0m \u001b[1;31m# implement neural network\u001b[0m\u001b[1;33m\u001b[0m\u001b[1;33m\u001b[0m\u001b[0m\n\u001b[1;32m----> 2\u001b[1;33m \u001b[1;32mfrom\u001b[0m \u001b[0mkeras\u001b[0m\u001b[1;33m.\u001b[0m\u001b[0mlayers\u001b[0m \u001b[1;32mimport\u001b[0m \u001b[0mDense\u001b[0m\u001b[1;33m\u001b[0m\u001b[1;33m\u001b[0m\u001b[0m\n\u001b[0m\u001b[0;32m      3\u001b[0m \u001b[1;32mfrom\u001b[0m \u001b[0mkeras\u001b[0m\u001b[1;33m.\u001b[0m\u001b[0mmodels\u001b[0m \u001b[1;32mimport\u001b[0m \u001b[0mSequential\u001b[0m\u001b[1;33m\u001b[0m\u001b[1;33m\u001b[0m\u001b[0m\n",
      "\u001b[1;32m~\\anaconda3\\lib\\site-packages\\keras\\__init__.py\u001b[0m in \u001b[0;36m<module>\u001b[1;34m\u001b[0m\n\u001b[0;32m     19\u001b[0m \"\"\"\n\u001b[0;32m     20\u001b[0m \u001b[1;31m# pylint: disable=unused-import\u001b[0m\u001b[1;33m\u001b[0m\u001b[1;33m\u001b[0m\u001b[0m\n\u001b[1;32m---> 21\u001b[1;33m \u001b[1;32mfrom\u001b[0m \u001b[0mtensorflow\u001b[0m\u001b[1;33m.\u001b[0m\u001b[0mpython\u001b[0m \u001b[1;32mimport\u001b[0m \u001b[0mtf2\u001b[0m\u001b[1;33m\u001b[0m\u001b[1;33m\u001b[0m\u001b[0m\n\u001b[0m\u001b[0;32m     22\u001b[0m \u001b[1;32mfrom\u001b[0m \u001b[0mkeras\u001b[0m \u001b[1;32mimport\u001b[0m \u001b[0mdistribute\u001b[0m\u001b[1;33m\u001b[0m\u001b[1;33m\u001b[0m\u001b[0m\n\u001b[0;32m     23\u001b[0m \u001b[1;33m\u001b[0m\u001b[0m\n",
      "\u001b[1;32m~\\anaconda3\\lib\\site-packages\\tensorflow\\__init__.py\u001b[0m in \u001b[0;36m<module>\u001b[1;34m\u001b[0m\n\u001b[0;32m     35\u001b[0m \u001b[1;32mimport\u001b[0m \u001b[0mtyping\u001b[0m \u001b[1;32mas\u001b[0m \u001b[0m_typing\u001b[0m\u001b[1;33m\u001b[0m\u001b[1;33m\u001b[0m\u001b[0m\n\u001b[0;32m     36\u001b[0m \u001b[1;33m\u001b[0m\u001b[0m\n\u001b[1;32m---> 37\u001b[1;33m \u001b[1;32mfrom\u001b[0m \u001b[0mtensorflow\u001b[0m\u001b[1;33m.\u001b[0m\u001b[0mpython\u001b[0m\u001b[1;33m.\u001b[0m\u001b[0mtools\u001b[0m \u001b[1;32mimport\u001b[0m \u001b[0mmodule_util\u001b[0m \u001b[1;32mas\u001b[0m \u001b[0m_module_util\u001b[0m\u001b[1;33m\u001b[0m\u001b[1;33m\u001b[0m\u001b[0m\n\u001b[0m\u001b[0;32m     38\u001b[0m \u001b[1;32mfrom\u001b[0m \u001b[0mtensorflow\u001b[0m\u001b[1;33m.\u001b[0m\u001b[0mpython\u001b[0m\u001b[1;33m.\u001b[0m\u001b[0mutil\u001b[0m\u001b[1;33m.\u001b[0m\u001b[0mlazy_loader\u001b[0m \u001b[1;32mimport\u001b[0m \u001b[0mLazyLoader\u001b[0m \u001b[1;32mas\u001b[0m \u001b[0m_LazyLoader\u001b[0m\u001b[1;33m\u001b[0m\u001b[1;33m\u001b[0m\u001b[0m\n\u001b[0;32m     39\u001b[0m \u001b[1;33m\u001b[0m\u001b[0m\n",
      "\u001b[1;32m~\\anaconda3\\lib\\site-packages\\tensorflow\\python\\__init__.py\u001b[0m in \u001b[0;36m<module>\u001b[1;34m\u001b[0m\n\u001b[0;32m     34\u001b[0m \u001b[1;31m# pylint: disable=wildcard-import,g-bad-import-order,g-import-not-at-top\u001b[0m\u001b[1;33m\u001b[0m\u001b[1;33m\u001b[0m\u001b[0m\n\u001b[0;32m     35\u001b[0m \u001b[1;33m\u001b[0m\u001b[0m\n\u001b[1;32m---> 36\u001b[1;33m \u001b[1;32mfrom\u001b[0m \u001b[0mtensorflow\u001b[0m\u001b[1;33m.\u001b[0m\u001b[0mpython\u001b[0m \u001b[1;32mimport\u001b[0m \u001b[0mpywrap_tensorflow\u001b[0m \u001b[1;32mas\u001b[0m \u001b[0m_pywrap_tensorflow\u001b[0m\u001b[1;33m\u001b[0m\u001b[1;33m\u001b[0m\u001b[0m\n\u001b[0m\u001b[0;32m     37\u001b[0m \u001b[1;32mfrom\u001b[0m \u001b[0mtensorflow\u001b[0m\u001b[1;33m.\u001b[0m\u001b[0mpython\u001b[0m\u001b[1;33m.\u001b[0m\u001b[0meager\u001b[0m \u001b[1;32mimport\u001b[0m \u001b[0mcontext\u001b[0m\u001b[1;33m\u001b[0m\u001b[1;33m\u001b[0m\u001b[0m\n\u001b[0;32m     38\u001b[0m \u001b[1;33m\u001b[0m\u001b[0m\n",
      "\u001b[1;32m~\\anaconda3\\lib\\site-packages\\tensorflow\\python\\pywrap_tensorflow.py\u001b[0m in \u001b[0;36m<module>\u001b[1;34m\u001b[0m\n\u001b[0;32m     58\u001b[0m   \u001b[1;31m# pylint: disable=wildcard-import,g-import-not-at-top,line-too-long,undefined-variable\u001b[0m\u001b[1;33m\u001b[0m\u001b[1;33m\u001b[0m\u001b[0m\n\u001b[0;32m     59\u001b[0m   \u001b[1;32mtry\u001b[0m\u001b[1;33m:\u001b[0m\u001b[1;33m\u001b[0m\u001b[1;33m\u001b[0m\u001b[0m\n\u001b[1;32m---> 60\u001b[1;33m     \u001b[1;32mfrom\u001b[0m \u001b[0mtensorflow\u001b[0m\u001b[1;33m.\u001b[0m\u001b[0mpython\u001b[0m\u001b[1;33m.\u001b[0m\u001b[0m_pywrap_tensorflow_internal\u001b[0m \u001b[1;32mimport\u001b[0m \u001b[1;33m*\u001b[0m\u001b[1;33m\u001b[0m\u001b[1;33m\u001b[0m\u001b[0m\n\u001b[0m\u001b[0;32m     61\u001b[0m   \u001b[1;31m# This try catch logic is because there is no bazel equivalent for py_extension.\u001b[0m\u001b[1;33m\u001b[0m\u001b[1;33m\u001b[0m\u001b[0m\n\u001b[0;32m     62\u001b[0m   \u001b[1;31m# Externally in opensource we must enable exceptions to load the shared object\u001b[0m\u001b[1;33m\u001b[0m\u001b[1;33m\u001b[0m\u001b[0m\n",
      "\u001b[1;31mKeyboardInterrupt\u001b[0m: "
     ]
    }
   ],
   "source": [
    "# implement neural network\n",
    "from keras.layers import Dense\n",
    "from keras.models import Sequential"
   ]
  },
  {
   "cell_type": "code",
   "execution_count": null,
   "id": "09890e5b",
   "metadata": {},
   "outputs": [],
   "source": [
    "# define the neural network model\n",
    "def define_model(n_input):\n",
    "    # define model\n",
    "    model = Sequential()\n",
    "    # define first 2 hidden layers and visible layer\n",
    "    model.add(Dense(8, input_dim=n_input, activation='relu', kernel_initializer='he_uniform'))\n",
    "    #model.add(Dense(8, activation='relu', kernel_initializer='he_uniform'))\n",
    "    model.add(Dense(3, activation='relu', kernel_initializer='he_uniform'))\n",
    "    model.add(Dense(1, activation='sigmoid'))\n",
    "    # define loss and optimizer\n",
    "    model.compile(loss='binary_crossentropy', optimizer='adam')\n",
    "    return model\n"
   ]
  },
  {
   "cell_type": "code",
   "execution_count": null,
   "id": "b6714102",
   "metadata": {},
   "outputs": [],
   "source": [
    "# get models\n",
    "n_input = 20\n",
    "w = {0:20,1:77}\n",
    "model_corr = define_model(n_input)\n",
    "model_I = define_model(n_input)\n",
    "model_wil = define_model(n_input)"
   ]
  },
  {
   "cell_type": "code",
   "execution_count": null,
   "id": "f9eeec2b",
   "metadata": {},
   "outputs": [],
   "source": [
    "history_corr = model_corr.fit(np.array(X_train_corr,dtype=float), y_train_corr, class_weight=w, epochs=10, verbose=0)\n",
    "history_I = model_I.fit(np.array(X_train_I,dtype=float), y_train_I, class_weight=w, epochs=10, verbose=0)\n",
    "history_wil = model_wil.fit(np.array(X_train_wil,dtype=float), y_train_wil, class_weight=w, epochs=10, verbose=0)\n"
   ]
  },
  {
   "cell_type": "code",
   "execution_count": null,
   "id": "345eac11",
   "metadata": {},
   "outputs": [],
   "source": [
    "#predict\n",
    "y_pred_corr_nn = model_corr.predict(np.array(X_test_corr,dtype=float))\n",
    "y_pred_I_nn = model_I.predict(np.array(X_test_I,dtype=float))\n",
    "y_pred_wil_nn = model_wil.predict(np.array(X_test_wil,dtype=float))\n",
    "\n",
    "# y_proba_corr_rf = rf_corr.predict_proba(X_test_corr)\n",
    "# y_proba_I_rf = rf_I.predict_proba(X_test_I)\n",
    "# y_proba_wil_rf = rf_wil.predict_proba(X_test_wil)"
   ]
  },
  {
   "cell_type": "code",
   "execution_count": null,
   "id": "866702cf",
   "metadata": {},
   "outputs": [],
   "source": [
    "# performance\n",
    "# print(f'Accuracy score for ANN with max correlations: {accuracy_score(y_test_corr,y_pred_corr_nn)}')\n",
    "# print(f'Accuracy score for ANN with max mutual informations: {accuracy_score(y_test_I,y_pred_I_nn)}')\n",
    "# print(f'Accuracy score for ANN with min Wilcoxson rank-sum test P-values: {accuracy_score(y_test_wil,y_pred_wil_nn)}')\n",
    "\n",
    "proba_list = [y_pred_corr_nn,y_pred_I_nn,y_pred_wil_nn]\n",
    "test_list = [y_test_corr,y_test_I,y_test_wil]\n",
    "name_list = ['ANN correlations','ANN mutual informations','ANN Wilcoxson']\n",
    "i=0\n",
    "for proba in proba_list:\n",
    "    fpr, tpr, _ = roc_curve(test_list[i], proba)\n",
    "    auc = roc_auc_score(test_list[i], proba)\n",
    "    plt.plot(fpr, tpr, marker='.', label= '%s,AUC = %0.2f' % (name_list[i],auc))\n",
    "    plt.xlabel('False Positive Rate')\n",
    "    plt.ylabel('True Positive Rate')\n",
    "    plt.legend(loc='best')\n",
    "    i=i+1\n",
    "plt.title('ANN')"
   ]
  },
  {
   "cell_type": "code",
   "execution_count": null,
   "id": "671c3db7",
   "metadata": {},
   "outputs": [],
   "source": [
    "[i for i in min_index_wil if i in max_index_I]"
   ]
  },
  {
   "cell_type": "code",
   "execution_count": null,
   "id": "5be90c1f",
   "metadata": {},
   "outputs": [],
   "source": [
    "rf_corr.feature_importances_"
   ]
  },
  {
   "cell_type": "code",
   "execution_count": null,
   "id": "8c8fd2bf",
   "metadata": {},
   "outputs": [],
   "source": [
    "rf_wil.feature_importances_"
   ]
  },
  {
   "cell_type": "code",
   "execution_count": null,
   "id": "0dd26978",
   "metadata": {},
   "outputs": [],
   "source": [
    "rf_I.feature_importances_"
   ]
  },
  {
   "cell_type": "code",
   "execution_count": null,
   "id": "0501a07f",
   "metadata": {},
   "outputs": [],
   "source": [
    "impot_list = [rf_corr.feature_importances_,rf_I.feature_importances_,rf_wil.feature_importances_]\n",
    "name_list = [gene_names[max_index_corr],gene_names[max_index_I],gene_names[min_index_wil]]"
   ]
  },
  {
   "cell_type": "code",
   "execution_count": null,
   "id": "7fea7fa2",
   "metadata": {},
   "outputs": [],
   "source": [
    "inde_list[2]"
   ]
  },
  {
   "cell_type": "code",
   "execution_count": null,
   "id": "2f3f605b",
   "metadata": {},
   "outputs": [],
   "source": [
    "inde_list=[]\n",
    "for i in range(3):\n",
    "    inde = list(np.argsort(-impot_list[i])[0:3])\n",
    "    inde_list.append(inde)\n",
    "    name = pd.DataFrame(name_list[i])\n",
    "    print(name.iloc[inde])"
   ]
  },
  {
   "cell_type": "code",
   "execution_count": null,
   "id": "4c412d7f",
   "metadata": {},
   "outputs": [],
   "source": [
    "from mpl_toolkits import mplot3d\n",
    "# Define Data\n",
    "\n",
    "x = np.arange(0, 20, 0.2)\n",
    "y =  np.sin(x)\n",
    "z1 = np.cos(x)\n",
    "z2 = np.exp(8)\n",
    " \n",
    "# Create Figure\n",
    "\n",
    "fig = plt.figure(figsize = (10, 7))\n",
    "ax = plt.axes(projection =\"3d\")\n",
    " \n",
    "# Create Plot\n",
    "\n",
    "ax.scatter3D(x, y, z1, marker='<', s=20, label='Triangle')\n",
    "ax.scatter3D(x, y, z2, marker='o', s=20, label='Circle' )\n",
    "\n",
    "# Add legend\n",
    "\n",
    "ax.legend(loc=1)\n",
    " \n",
    "# Show plot\n",
    "\n",
    "plt.show()"
   ]
  },
  {
   "cell_type": "code",
   "execution_count": null,
   "id": "23b2281a",
   "metadata": {},
   "outputs": [],
   "source": [
    "x = genes_maxcorr.iloc[:,inde_list[0]]\n",
    "x1 = np.array(x.iloc[:,0],dtype=float)\n",
    "x2 = np.array(x.iloc[:,1],dtype=float)\n",
    "x3 = np.array(x.iloc[:,2],dtype=float)\n",
    "y_0 = np.where(y_encode==0)\n",
    "y_1 = np.where(y_encode==1)\n",
    "xx1 = x1[y_0]\n",
    "xx2 = x2[y_0]\n",
    "xx3 = x3[y_0]\n",
    "yy1 = x1[y_1]\n",
    "yy2 = x2[y_1]\n",
    "yy3 = x3[y_1]\n",
    "fig = plt.figure(figsize = (10, 7))\n",
    "ax = plt.axes(projection =\"3d\")\n",
    "ax.scatter3D(xx1, xx2, xx3, marker='<', s=20, label='pCR')\n",
    "ax.scatter3D(yy1, yy2, yy3, marker='o', s=20, label='RD' )\n",
    "ax.legend(loc=1)\n",
    "plt.title('Most important genes in set B by feature importance in RF')\n",
    "plt.show()"
   ]
  },
  {
   "cell_type": "code",
   "execution_count": null,
   "id": "4de06d83",
   "metadata": {},
   "outputs": [],
   "source": [
    "x = genes_maxI.iloc[:,inde_list[0]]\n",
    "x1 = np.array(x.iloc[:,0],dtype=float)\n",
    "x2 = np.array(x.iloc[:,1],dtype=float)\n",
    "x3 = np.array(x.iloc[:,2],dtype=float)\n",
    "y_0 = np.where(y_encode==0)\n",
    "y_1 = np.where(y_encode==1)\n",
    "xx1 = x1[y_0]\n",
    "xx2 = x2[y_0]\n",
    "xx3 = x3[y_0]\n",
    "yy1 = x1[y_1]\n",
    "yy2 = x2[y_1]\n",
    "yy3 = x3[y_1]\n",
    "fig = plt.figure(figsize = (10, 7))\n",
    "ax = plt.axes(projection =\"3d\")\n",
    "ax.scatter3D(xx1, xx2, xx3, marker='<', s=20, label='pCR')\n",
    "ax.scatter3D(yy1, yy2, yy3, marker='o', s=20, label='RD' )\n",
    "ax.legend(loc=1)\n",
    "plt.title('Most important genes in set A by feature importance in RF')\n",
    "plt.show()"
   ]
  },
  {
   "cell_type": "code",
   "execution_count": null,
   "id": "9ef6e6b8",
   "metadata": {},
   "outputs": [],
   "source": [
    "x = genes_wil.iloc[:,inde_list[0]]\n",
    "x1 = np.array(x.iloc[:,0],dtype=float)\n",
    "x2 = np.array(x.iloc[:,1],dtype=float)\n",
    "x3 = np.array(x.iloc[:,2],dtype=float)\n",
    "y_0 = np.where(y_encode==0)\n",
    "y_1 = np.where(y_encode==1)\n",
    "xx1 = x1[y_0]\n",
    "xx2 = x2[y_0]\n",
    "xx3 = x3[y_0]\n",
    "yy1 = x1[y_1]\n",
    "yy2 = x2[y_1]\n",
    "yy3 = x3[y_1]\n",
    "fig = plt.figure(figsize = (10, 7))\n",
    "ax = plt.axes(projection =\"3d\")\n",
    "ax.scatter3D(xx1, xx2, xx3, marker='<', s=20, label='pCR')\n",
    "ax.scatter3D(yy1, yy2, yy3, marker='o', s=20, label='RD' )\n",
    "ax.legend(loc=1)\n",
    "plt.title('Most important genes in set C by feature importance in RF')\n",
    "plt.show()"
   ]
  },
  {
   "cell_type": "code",
   "execution_count": 50,
   "id": "b8629a7e",
   "metadata": {},
   "outputs": [
    {
     "data": {
      "text/html": [
       "<div>\n",
       "<style scoped>\n",
       "    .dataframe tbody tr th:only-of-type {\n",
       "        vertical-align: middle;\n",
       "    }\n",
       "\n",
       "    .dataframe tbody tr th {\n",
       "        vertical-align: top;\n",
       "    }\n",
       "\n",
       "    .dataframe thead th {\n",
       "        text-align: right;\n",
       "    }\n",
       "</style>\n",
       "<table border=\"1\" class=\"dataframe\">\n",
       "  <thead>\n",
       "    <tr style=\"text-align: right;\">\n",
       "      <th></th>\n",
       "      <th>id</th>\n",
       "      <th>age</th>\n",
       "      <th>bp</th>\n",
       "      <th>sg</th>\n",
       "      <th>al</th>\n",
       "      <th>su</th>\n",
       "      <th>pcc</th>\n",
       "      <th>ba</th>\n",
       "      <th>bgr</th>\n",
       "      <th>bu</th>\n",
       "      <th>...</th>\n",
       "      <th>dm</th>\n",
       "      <th>cad</th>\n",
       "      <th>appet</th>\n",
       "      <th>pe</th>\n",
       "      <th>ane</th>\n",
       "      <th>wc_imputed$wc</th>\n",
       "      <th>pcv_imputed$pcv</th>\n",
       "      <th>kidney$rbc</th>\n",
       "      <th>kidney$pc</th>\n",
       "      <th>kidney$classification</th>\n",
       "    </tr>\n",
       "  </thead>\n",
       "  <tbody>\n",
       "    <tr>\n",
       "      <th>0</th>\n",
       "      <td>0</td>\n",
       "      <td>48</td>\n",
       "      <td>80</td>\n",
       "      <td>1.020</td>\n",
       "      <td>1</td>\n",
       "      <td>0</td>\n",
       "      <td>notpresent</td>\n",
       "      <td>notpresent</td>\n",
       "      <td>121</td>\n",
       "      <td>36.0</td>\n",
       "      <td>...</td>\n",
       "      <td>yes</td>\n",
       "      <td>no</td>\n",
       "      <td>good</td>\n",
       "      <td>no</td>\n",
       "      <td>no</td>\n",
       "      <td>7800</td>\n",
       "      <td>44</td>\n",
       "      <td>NaN</td>\n",
       "      <td>normal</td>\n",
       "      <td>ckd</td>\n",
       "    </tr>\n",
       "    <tr>\n",
       "      <th>1</th>\n",
       "      <td>1</td>\n",
       "      <td>7</td>\n",
       "      <td>50</td>\n",
       "      <td>1.020</td>\n",
       "      <td>4</td>\n",
       "      <td>0</td>\n",
       "      <td>notpresent</td>\n",
       "      <td>notpresent</td>\n",
       "      <td>148</td>\n",
       "      <td>18.0</td>\n",
       "      <td>...</td>\n",
       "      <td>no</td>\n",
       "      <td>no</td>\n",
       "      <td>good</td>\n",
       "      <td>no</td>\n",
       "      <td>no</td>\n",
       "      <td>6000</td>\n",
       "      <td>38</td>\n",
       "      <td>NaN</td>\n",
       "      <td>normal</td>\n",
       "      <td>ckd</td>\n",
       "    </tr>\n",
       "    <tr>\n",
       "      <th>2</th>\n",
       "      <td>2</td>\n",
       "      <td>62</td>\n",
       "      <td>80</td>\n",
       "      <td>1.010</td>\n",
       "      <td>2</td>\n",
       "      <td>3</td>\n",
       "      <td>notpresent</td>\n",
       "      <td>notpresent</td>\n",
       "      <td>423</td>\n",
       "      <td>53.0</td>\n",
       "      <td>...</td>\n",
       "      <td>yes</td>\n",
       "      <td>no</td>\n",
       "      <td>poor</td>\n",
       "      <td>no</td>\n",
       "      <td>yes</td>\n",
       "      <td>7500</td>\n",
       "      <td>31</td>\n",
       "      <td>normal</td>\n",
       "      <td>normal</td>\n",
       "      <td>ckd</td>\n",
       "    </tr>\n",
       "    <tr>\n",
       "      <th>3</th>\n",
       "      <td>3</td>\n",
       "      <td>48</td>\n",
       "      <td>70</td>\n",
       "      <td>1.005</td>\n",
       "      <td>4</td>\n",
       "      <td>0</td>\n",
       "      <td>present</td>\n",
       "      <td>notpresent</td>\n",
       "      <td>117</td>\n",
       "      <td>56.0</td>\n",
       "      <td>...</td>\n",
       "      <td>no</td>\n",
       "      <td>no</td>\n",
       "      <td>poor</td>\n",
       "      <td>yes</td>\n",
       "      <td>yes</td>\n",
       "      <td>6700</td>\n",
       "      <td>32</td>\n",
       "      <td>normal</td>\n",
       "      <td>abnormal</td>\n",
       "      <td>ckd</td>\n",
       "    </tr>\n",
       "    <tr>\n",
       "      <th>4</th>\n",
       "      <td>4</td>\n",
       "      <td>51</td>\n",
       "      <td>80</td>\n",
       "      <td>1.010</td>\n",
       "      <td>2</td>\n",
       "      <td>0</td>\n",
       "      <td>notpresent</td>\n",
       "      <td>notpresent</td>\n",
       "      <td>106</td>\n",
       "      <td>26.0</td>\n",
       "      <td>...</td>\n",
       "      <td>no</td>\n",
       "      <td>no</td>\n",
       "      <td>good</td>\n",
       "      <td>no</td>\n",
       "      <td>no</td>\n",
       "      <td>7300</td>\n",
       "      <td>35</td>\n",
       "      <td>normal</td>\n",
       "      <td>normal</td>\n",
       "      <td>ckd</td>\n",
       "    </tr>\n",
       "    <tr>\n",
       "      <th>...</th>\n",
       "      <td>...</td>\n",
       "      <td>...</td>\n",
       "      <td>...</td>\n",
       "      <td>...</td>\n",
       "      <td>...</td>\n",
       "      <td>...</td>\n",
       "      <td>...</td>\n",
       "      <td>...</td>\n",
       "      <td>...</td>\n",
       "      <td>...</td>\n",
       "      <td>...</td>\n",
       "      <td>...</td>\n",
       "      <td>...</td>\n",
       "      <td>...</td>\n",
       "      <td>...</td>\n",
       "      <td>...</td>\n",
       "      <td>...</td>\n",
       "      <td>...</td>\n",
       "      <td>...</td>\n",
       "      <td>...</td>\n",
       "      <td>...</td>\n",
       "    </tr>\n",
       "    <tr>\n",
       "      <th>395</th>\n",
       "      <td>395</td>\n",
       "      <td>55</td>\n",
       "      <td>80</td>\n",
       "      <td>1.020</td>\n",
       "      <td>0</td>\n",
       "      <td>0</td>\n",
       "      <td>notpresent</td>\n",
       "      <td>notpresent</td>\n",
       "      <td>140</td>\n",
       "      <td>49.0</td>\n",
       "      <td>...</td>\n",
       "      <td>no</td>\n",
       "      <td>no</td>\n",
       "      <td>good</td>\n",
       "      <td>no</td>\n",
       "      <td>no</td>\n",
       "      <td>6700</td>\n",
       "      <td>47</td>\n",
       "      <td>normal</td>\n",
       "      <td>normal</td>\n",
       "      <td>notckd</td>\n",
       "    </tr>\n",
       "    <tr>\n",
       "      <th>396</th>\n",
       "      <td>396</td>\n",
       "      <td>42</td>\n",
       "      <td>70</td>\n",
       "      <td>1.025</td>\n",
       "      <td>0</td>\n",
       "      <td>0</td>\n",
       "      <td>notpresent</td>\n",
       "      <td>notpresent</td>\n",
       "      <td>75</td>\n",
       "      <td>31.0</td>\n",
       "      <td>...</td>\n",
       "      <td>no</td>\n",
       "      <td>no</td>\n",
       "      <td>good</td>\n",
       "      <td>no</td>\n",
       "      <td>no</td>\n",
       "      <td>7800</td>\n",
       "      <td>54</td>\n",
       "      <td>normal</td>\n",
       "      <td>normal</td>\n",
       "      <td>notckd</td>\n",
       "    </tr>\n",
       "    <tr>\n",
       "      <th>397</th>\n",
       "      <td>397</td>\n",
       "      <td>12</td>\n",
       "      <td>80</td>\n",
       "      <td>1.020</td>\n",
       "      <td>0</td>\n",
       "      <td>0</td>\n",
       "      <td>notpresent</td>\n",
       "      <td>notpresent</td>\n",
       "      <td>100</td>\n",
       "      <td>26.0</td>\n",
       "      <td>...</td>\n",
       "      <td>no</td>\n",
       "      <td>no</td>\n",
       "      <td>good</td>\n",
       "      <td>no</td>\n",
       "      <td>no</td>\n",
       "      <td>6600</td>\n",
       "      <td>49</td>\n",
       "      <td>normal</td>\n",
       "      <td>normal</td>\n",
       "      <td>notckd</td>\n",
       "    </tr>\n",
       "    <tr>\n",
       "      <th>398</th>\n",
       "      <td>398</td>\n",
       "      <td>17</td>\n",
       "      <td>60</td>\n",
       "      <td>1.025</td>\n",
       "      <td>0</td>\n",
       "      <td>0</td>\n",
       "      <td>notpresent</td>\n",
       "      <td>notpresent</td>\n",
       "      <td>114</td>\n",
       "      <td>50.0</td>\n",
       "      <td>...</td>\n",
       "      <td>no</td>\n",
       "      <td>no</td>\n",
       "      <td>good</td>\n",
       "      <td>no</td>\n",
       "      <td>no</td>\n",
       "      <td>7200</td>\n",
       "      <td>51</td>\n",
       "      <td>normal</td>\n",
       "      <td>normal</td>\n",
       "      <td>notckd</td>\n",
       "    </tr>\n",
       "    <tr>\n",
       "      <th>399</th>\n",
       "      <td>399</td>\n",
       "      <td>58</td>\n",
       "      <td>80</td>\n",
       "      <td>1.025</td>\n",
       "      <td>0</td>\n",
       "      <td>0</td>\n",
       "      <td>notpresent</td>\n",
       "      <td>notpresent</td>\n",
       "      <td>131</td>\n",
       "      <td>18.0</td>\n",
       "      <td>...</td>\n",
       "      <td>no</td>\n",
       "      <td>no</td>\n",
       "      <td>good</td>\n",
       "      <td>no</td>\n",
       "      <td>no</td>\n",
       "      <td>6800</td>\n",
       "      <td>53</td>\n",
       "      <td>normal</td>\n",
       "      <td>normal</td>\n",
       "      <td>notckd</td>\n",
       "    </tr>\n",
       "  </tbody>\n",
       "</table>\n",
       "<p>400 rows × 26 columns</p>\n",
       "</div>"
      ],
      "text/plain": [
       "      id  age  bp     sg  al  su         pcc          ba  bgr    bu  ...   dm  \\\n",
       "0      0   48  80  1.020   1   0  notpresent  notpresent  121  36.0  ...  yes   \n",
       "1      1    7  50  1.020   4   0  notpresent  notpresent  148  18.0  ...   no   \n",
       "2      2   62  80  1.010   2   3  notpresent  notpresent  423  53.0  ...  yes   \n",
       "3      3   48  70  1.005   4   0     present  notpresent  117  56.0  ...   no   \n",
       "4      4   51  80  1.010   2   0  notpresent  notpresent  106  26.0  ...   no   \n",
       "..   ...  ...  ..    ...  ..  ..         ...         ...  ...   ...  ...  ...   \n",
       "395  395   55  80  1.020   0   0  notpresent  notpresent  140  49.0  ...   no   \n",
       "396  396   42  70  1.025   0   0  notpresent  notpresent   75  31.0  ...   no   \n",
       "397  397   12  80  1.020   0   0  notpresent  notpresent  100  26.0  ...   no   \n",
       "398  398   17  60  1.025   0   0  notpresent  notpresent  114  50.0  ...   no   \n",
       "399  399   58  80  1.025   0   0  notpresent  notpresent  131  18.0  ...   no   \n",
       "\n",
       "     cad  appet   pe  ane wc_imputed$wc pcv_imputed$pcv kidney$rbc kidney$pc  \\\n",
       "0     no   good   no   no          7800              44        NaN    normal   \n",
       "1     no   good   no   no          6000              38        NaN    normal   \n",
       "2     no   poor   no  yes          7500              31     normal    normal   \n",
       "3     no   poor  yes  yes          6700              32     normal  abnormal   \n",
       "4     no   good   no   no          7300              35     normal    normal   \n",
       "..   ...    ...  ...  ...           ...             ...        ...       ...   \n",
       "395   no   good   no   no          6700              47     normal    normal   \n",
       "396   no   good   no   no          7800              54     normal    normal   \n",
       "397   no   good   no   no          6600              49     normal    normal   \n",
       "398   no   good   no   no          7200              51     normal    normal   \n",
       "399   no   good   no   no          6800              53     normal    normal   \n",
       "\n",
       "    kidney$classification  \n",
       "0                     ckd  \n",
       "1                     ckd  \n",
       "2                     ckd  \n",
       "3                     ckd  \n",
       "4                     ckd  \n",
       "..                    ...  \n",
       "395                notckd  \n",
       "396                notckd  \n",
       "397                notckd  \n",
       "398                notckd  \n",
       "399                notckd  \n",
       "\n",
       "[400 rows x 26 columns]"
      ]
     },
     "execution_count": 50,
     "metadata": {},
     "output_type": "execute_result"
    }
   ],
   "source": [
    "kidney = pd.read_csv('kidney_imputed_1.csv')\n",
    "kidney"
   ]
  },
  {
   "cell_type": "code",
   "execution_count": 51,
   "id": "32bd822e",
   "metadata": {},
   "outputs": [],
   "source": [
    "kidney = kidney.iloc[:,1:]\n",
    "var_names = kidney.columns\n",
    "var_names_nu = ['age','sg','bp','bgr','bu','sc','sod','pot','hemo','pcv','wc','rc']\n",
    "var_names_no = ['al','su','rbc','pc','pcc','ba','htn','dm','cad','appet','pe','ane']"
   ]
  },
  {
   "cell_type": "code",
   "execution_count": 55,
   "id": "067f0700",
   "metadata": {},
   "outputs": [
    {
     "name": "stderr",
     "output_type": "stream",
     "text": [
      "C:\\Users\\chenm\\AppData\\Local\\Temp/ipykernel_10872/2106937401.py:1: SettingWithCopyWarning: \n",
      "A value is trying to be set on a copy of a slice from a DataFrame\n",
      "\n",
      "See the caveats in the documentation: https://pandas.pydata.org/pandas-docs/stable/user_guide/indexing.html#returning-a-view-versus-a-copy\n",
      "  kidney['kidney$classification'][kidney['kidney$classification']=='ckd\\t']='ckd'\n"
     ]
    }
   ],
   "source": [
    "kidney['kidney$classification'][kidney['kidney$classification']=='ckd\\t']='ckd'"
   ]
  },
  {
   "cell_type": "code",
   "execution_count": 58,
   "id": "3bef9eae",
   "metadata": {},
   "outputs": [],
   "source": [
    "y_encode = np.where(kidney['kidney$classification']=='notckd',0,1)"
   ]
  },
  {
   "cell_type": "code",
   "execution_count": 59,
   "id": "17162fd6",
   "metadata": {},
   "outputs": [],
   "source": [
    "X_train, X_test, y_train, y_test =  train_test_split(kidney,y_encode,test_size=0.3,stratify=y_encode,random_state=423)"
   ]
  },
  {
   "cell_type": "code",
   "execution_count": 69,
   "id": "4943115c",
   "metadata": {},
   "outputs": [],
   "source": [
    "lg_hemo = LogisticRegression(random_state=666, max_iter = 1000).fit(np.array(X_train['pcv_imputed$pcv']).reshape(-1,1),y_train)"
   ]
  },
  {
   "cell_type": "code",
   "execution_count": 70,
   "id": "70158614",
   "metadata": {},
   "outputs": [],
   "source": [
    "y_pred = lg_hemo.predict(np.array(X_test['pcv_imputed$pcv']).reshape(-1,1))\n",
    "np.mean(y_pred==y_test)\n",
    "y_proba = lg_hemo.predict_proba(np.array(X_test['pcv_imputed$pcv']).reshape(-1,1))[:,1]"
   ]
  },
  {
   "cell_type": "code",
   "execution_count": 71,
   "id": "f5641a11",
   "metadata": {},
   "outputs": [
    {
     "data": {
      "text/plain": [
       "<matplotlib.legend.Legend at 0x21373623f70>"
      ]
     },
     "execution_count": 71,
     "metadata": {},
     "output_type": "execute_result"
    },
    {
     "data": {
      "image/png": "[encoded data removed]",
      "text/plain": [
       "<Figure size 432x288 with 1 Axes>"
      ]
     },
     "metadata": {
      "needs_background": "light"
     },
     "output_type": "display_data"
    }
   ],
   "source": [
    "fpr, tpr, _ = roc_curve(y_test, y_proba)\n",
    "auc = roc_auc_score(y_test, y_proba)\n",
    "plt.plot(fpr, tpr, marker='.', label= 'AUC = %0.2f' % (auc))\n",
    "plt.xlabel('False Positive Rate')\n",
    "plt.ylabel('True Positive Rate')\n",
    "plt.legend(loc='best')"
   ]
  },
  {
   "cell_type": "code",
   "execution_count": null,
   "id": "e7245deb",
   "metadata": {},
   "outputs": [],
   "source": []
  }
 ],
 "metadata": {
  "kernelspec": {
   "display_name": "Python 3 (ipykernel)",
   "language": "python",
   "name": "python3"
  },
  "language_info": {
   "codemirror_mode": {
    "name": "ipython",
    "version": 3
   },
   "file_extension": ".py",
   "mimetype": "text/x-python",
   "name": "python",
   "nbconvert_exporter": "python",
   "pygments_lexer": "ipython3",
   "version": "3.9.7"
  }
 },
 "nbformat": 4,
 "nbformat_minor": 5
}
